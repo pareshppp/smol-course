{
  "cells": [
    {
      "cell_type": "markdown",
      "metadata": {
        "id": "Yq94_gHXlxRn"
      },
      "source": [
        "# Hands-On Exercises: Fine-Tuning SmolVLM2-2.2B-Instruct"
      ]
    },
    {
      "cell_type": "markdown",
      "metadata": {
        "id": "p570kW66mG5L"
      },
      "source": [
        "Welcome to the practical section! Here you'll put into practice everything you've learned about vision language models (VLMs) using **HuggingFaceTB/SmolVLM2-2.2B-Instruct**.  \n",
        "The exercises progress from foundational concepts to advanced techniques, helping you gain real-world, hands-on experience."
      ]
    },
    {
      "cell_type": "markdown",
      "metadata": {
        "id": "ZkzfeG4-pabO"
      },
      "source": [
        "## Learning Objectives\n",
        "\n",
        "By the end of these exercises, you will be able to:\n",
        "\n",
        "- **Work with VLM datasets**: Explore and prepare **HuggingFaceM4/ChartQA**.  \n",
        "- **Optimize training**: Apply **quantization** and **PEFT** for efficient fine-tuning.  \n",
        "- **Fine-tune models in practice**: Train **HuggingFaceTB/SmolVLM2-2.2B-Instruct** using both Python APIs and CLI tools.  \n",
        "- **Adapt datasets for TRL**: Prepare VLM datasets to integrate seamlessly with TRL workflows.  \n",
        "- **Move to production**: Understand how to scale and manage **production-ready fine-tuning workflows** for VLMs."
      ]
    },
    {
      "cell_type": "markdown",
      "metadata": {
        "id": "Q8h2YYBq5G3R"
      },
      "source": [
        "## Exercise 1: Explore `SmolVLM2-2.2B-Instruct`\n",
        "\n",
        "**Objective:** Get familiar with the `SmolVLM2-2.2B-Instruct` model and evaluate the model using a sample from the dataset.\n",
        "\n",
        "### Environment Setup\n",
        "\n",
        "<Tip warning={true}>\n",
        "\n",
        "- You need a GPU with at least 8GB VRAM for training. CPU/MPS can run formatting and dataset exploration, but training larger models will likely fail.\n",
        "- First run will download several GB of model weights; ensure 15GB+ free disk and a stable connection.\n",
        "- If you need access to private repos, authenticate with Hugging Face Hub via `login()`.\n",
        "\n",
        "</Tip>\n",
        "\n",
        "First, install the required libraries: `transformers`, `datasets`, `trl`,`huggingface_hub`, and `trackio`.  \n",
        "These packages provide the tools for working with the model, datasets, and Hugging Face Hub.  "
      ]
    },
    {
      "cell_type": "code",
      "execution_count": null,
      "metadata": {
        "id": "ekiV1sygIHRl"
      },
      "outputs": [],
      "source": [
        "# Install required packages (run in Colab or your environment)\n",
        "!pip install transformers datasets trl huggingface_hub trackio num2words==0.5.14"
      ]
    },
    {
      "cell_type": "markdown",
      "metadata": {
        "id": "BVyGXyBzp5SX"
      },
      "source": [
        "### Import dependencies\n",
        "\n",
        "Now, import the main dependencies we'll use:"
      ]
    },
    {
      "cell_type": "code",
      "execution_count": 2,
      "metadata": {
        "id": "Kjv43TCrp7VI"
      },
      "outputs": [],
      "source": [
        "# Import dependencies\n",
        "\n",
        "import torch\n",
        "import os\n",
        "from transformers import AutoProcessor, AutoModelForImageTextToText, BitsAndBytesConfig\n",
        "from transformers.image_utils import load_image"
      ]
    },
    {
      "cell_type": "markdown",
      "metadata": {
        "id": "y1OZqbZip-lX"
      },
      "source": [
        "### Load the model and processor\n",
        "\n",
        "#### 1. Select the device  \n",
        "\n",
        "We start by selecting the device where the model will run. It can be a GPU (`cuda`), Apple Silicon (`mps`), or the CPU as a fallback.\n"
      ]
    },
    {
      "cell_type": "code",
      "execution_count": 3,
      "metadata": {
        "id": "5G8fPfasqBn0"
      },
      "outputs": [],
      "source": [
        "device = (\n",
        "    \"cuda\"\n",
        "    if torch.cuda.is_available()\n",
        "    else \"mps\" if torch.backends.mps.is_available() else \"cpu\"\n",
        ")"
      ]
    },
    {
      "cell_type": "markdown",
      "metadata": {
        "id": "0-oJ8vXHq3Nk"
      },
      "source": [
        "#### 2. Authenticate with Hugging Face\n",
        "\n",
        "To work with private models or to **push your fine-tuned model to the Hub** (as we'll do in this exercise), you need to authenticate with your Hugging Face account.\n",
        "\n",
        "<Tip>\n",
        "\n",
        "You can create and copy your access token from the [Hugging Face tokens page](https://huggingface.co/settings/tokens) in your profile.\n",
        "\n",
        "</Tip>"
      ]
    },
    {
      "cell_type": "code",
      "execution_count": null,
      "metadata": {
        "id": "Yqy2lsBzq_cf"
      },
      "outputs": [],
      "source": [
        "from huggingface_hub import login\n",
        "login()"
      ]
    },
    {
      "cell_type": "markdown",
      "metadata": {
        "id": "AaDr808Lq__K"
      },
      "source": [
        "#### 3. Load the model and processor\n",
        "\n",
        "Finally, we load the **HuggingFaceTB/SmolVLM2-2.2B-Instruct** model.\n",
        "The `AutoProcessor` is also initialized here — it ensures that both text and images are preprocessed correctly before being passed to the model."
      ]
    },
    {
      "cell_type": "code",
      "execution_count": null,
      "metadata": {
        "id": "3lqUV0ECrFtG"
      },
      "outputs": [],
      "source": [
        "model_name = \"HuggingFaceTB/SmolVLM2-2.2B-Instruct\"\n",
        "model = AutoModelForImageTextToText.from_pretrained(\n",
        "    model_name,\n",
        "    dtype=torch.bfloat16,\n",
        ").to(device)\n",
        "\n",
        "processor = AutoProcessor.from_pretrained(model_name)"
      ]
    },
    {
      "cell_type": "markdown",
      "metadata": {
        "id": "lmcIF_PYp8Kj"
      },
      "source": [
        "### Explore the dataset\n",
        "\n",
        "In this step, we load a small subset of the **ChartQA** dataset — just 10% of the training and validation splits — to keep the exercises fast and manageable for learning purposes.\n",
        "\n",
        "We then display one of the chart images using `matplotlib` to get a visual sense of the model's input.  \n",
        "Additionally, we print the corresponding query and label so you can fully understand the dataset structure and the type of tasks the model will handle."
      ]
    },
    {
      "cell_type": "code",
      "execution_count": 6,
      "metadata": {
        "colab": {
          "base_uri": "https://localhost:8080/",
          "height": 581
        },
        "id": "cwn4Yp1v-qL1",
        "outputId": "86aa7911-13d7-40fc-bc8c-dd50cb7d7b64"
      },
      "outputs": [
        {
          "data": {
            "text/html": [
              "\n",
              "        <iframe\n",
              "            width=\"100%\"\n",
              "            height=\"560\"\n",
              "            src=\"https://huggingface.co/datasets/HuggingFaceM4/ChartQA/embed/viewer/default/train\"\n",
              "            frameborder=\"0\"\n",
              "            allowfullscreen\n",
              "            \n",
              "        ></iframe>\n",
              "        "
            ],
            "text/plain": [
              "<IPython.lib.display.IFrame at 0x7f10711df740>"
            ]
          },
          "execution_count": 6,
          "metadata": {},
          "output_type": "execute_result"
        }
      ],
      "source": [
        "from IPython.display import IFrame\n",
        "\n",
        "IFrame(\n",
        "    src=\"https://huggingface.co/datasets/HuggingFaceM4/ChartQA/embed/viewer/default/train\",\n",
        "    width=\"100%\",\n",
        "    height=560\n",
        ")"
      ]
    },
    {
      "cell_type": "code",
      "execution_count": null,
      "metadata": {
        "id": "yOENhSzPsvBK"
      },
      "outputs": [],
      "source": [
        "from datasets import load_dataset\n",
        "import matplotlib.pyplot as plt\n",
        "\n",
        "train_dataset, eval_dataset = load_dataset(\"HuggingFaceM4/ChartQA\", split=[\"train[:10%]\", \"val[:10%]\"])\n",
        "example = train_dataset[1]\n",
        "image = load_image(example[\"image\"])\n",
        "\n",
        "print(example[\"query\"])\n",
        "print(example[\"label\"][0])"
      ]
    },
    {
      "cell_type": "code",
      "execution_count": 8,
      "metadata": {
        "colab": {
          "base_uri": "https://localhost:8080/",
          "height": 428
        },
        "id": "wgU1INfsBI4z",
        "outputId": "32d6c51f-ee14-4aec-be48-39f83fddd88d"
      },
      "outputs": [
        {
          "data": {
            "image/png": "[encoded data removed]",
            "text/plain": [
              "<Figure size 640x480 with 1 Axes>"
            ]
          },
          "metadata": {},
          "output_type": "display_data"
        }
      ],
      "source": [
        "plt.imshow(image)\n",
        "plt.axis(\"off\")\n",
        "plt.title(\"Sample Chart Image\")\n",
        "plt.show()"
      ]
    },
    {
      "cell_type": "markdown",
      "metadata": {
        "id": "ye3oHev_sxSb"
      },
      "source": [
        "### Build a chat-style prompt\n",
        "\n",
        "We create a **chat message list** that includes a user query along with the image.\n",
        "\n",
        "Using `processor.apply_chat_template`, we transform this into the exact input format the model expects."
      ]
    },
    {
      "cell_type": "code",
      "execution_count": null,
      "metadata": {
        "id": "itTL_n9nsyUJ"
      },
      "outputs": [],
      "source": [
        "# Define a chat-style prompt\n",
        "messages = [\n",
        "    {\"role\": \"user\", \"content\": [\n",
        "        {\"type\": \"image\", \"image\": image},\n",
        "        {\"type\": \"text\", \"text\": example[\"query\"]},\n",
        "    ]}\n",
        "]\n",
        "\n",
        "# Apply the chat template\n",
        "chat_prompt = processor.apply_chat_template(\n",
        "      messages, add_generation_prompt=True\\\n",
        ")\n",
        "print(chat_prompt)"
      ]
    },
    {
      "cell_type": "markdown",
      "metadata": {
        "id": "UXhZ3Q8Pp8Nk"
      },
      "source": [
        "### Run inference\n",
        "\n",
        "We tokenize the chat prompt and image into tensors, then generate a response with the model.\n",
        "Finally, we decode the output tokens back into text."
      ]
    },
    {
      "cell_type": "code",
      "execution_count": null,
      "metadata": {
        "id": "3-vVaqRos6XH"
      },
      "outputs": [],
      "source": [
        "# Tokenize input\n",
        "inputs = processor(images=[image], text=chat_prompt, return_tensors=\"pt\").to(device)\n",
        "\n",
        "# Generate model output\n",
        "with torch.no_grad():\n",
        "    output = model.generate(**inputs, max_new_tokens=20)\n",
        "\n",
        "# Trim the generated ids to remove the input ids\n",
        "trimmed_generated_ids = [out_ids[len(in_ids) :] for in_ids, out_ids in zip(inputs.input_ids, output)]\n",
        "\n",
        "# Decode the output text\n",
        "output_text = processor.batch_decode(\n",
        "    trimmed_generated_ids, skip_special_tokens=True, clean_up_tokenization_spaces=False\n",
        ")\n",
        "print(output_text[0])"
      ]
    },
    {
      "cell_type": "markdown",
      "metadata": {
        "id": "FRAUV9Jdp8QK"
      },
      "source": [
        "The model generates a reponse, but it's not exactly correct. It could be improved with some fine-tuning. Now that we've seen how to build prompts and generate responses with **SmolVLM2-2.2B-Instruct**, it's time to learn how to adapt and **fine-tune** the model efficiently using **LoRA (Low-Rank Adaptation)**. This approach allows training large models with fewer resources and prepares the model for specific downstream tasks.\n",
        "\n",
        "\n",
        "## Exercise 2: Fine-Tune the Model Using LoRA\n",
        "\n",
        "In this exercise, we'll apply **LoRA (Low-Rank Adaptation)** to fine-tune our Vision-Language Model efficiently.  \n",
        "\n",
        "LoRA works by injecting **trainable low-rank matrices** into existing model layers, enabling **large models to be fine-tuned with significantly fewer trainable parameters**.  \n",
        "This approach reduces memory usage and speeds up training while maintaining high performance."
      ]
    },
    {
      "cell_type": "markdown",
      "metadata": {
        "id": "nR1hQWKQ5S9c"
      },
      "source": [
        "### Format dataset\n",
        "\n",
        "The first step involves formatting the dataset for VLM training. We'll create a system message to make the VLM act as a chart analysis expert, giving concise answers about chart images."
      ]
    },
    {
      "cell_type": "code",
      "execution_count": 14,
      "metadata": {
        "id": "Lfyp9XeMFDQ-"
      },
      "outputs": [],
      "source": [
        "system_message = \"\"\"You are a Vision Language Model specialized in interpreting visual data from chart images.\n",
        "Your task is to analyze the provided chart image and respond to queries with concise answers, usually a single word, number, or short phrase.\n",
        "The charts include a variety of types (e.g., line charts, bar charts) and contain colors, labels, and text.\n",
        "Focus on delivering accurate, succinct answers based on the visual information. Avoid additional explanation unless absolutely necessary.\"\"\""
      ]
    },
    {
      "cell_type": "markdown",
      "metadata": {
        "id": "adI2ZDfkNZFg"
      },
      "source": [
        "We'll format the dataset into a chatbot structure, with the system message, image, user query, and answer for each interaction. This dataset format is expect by the `SFTTrainer`, includind the `images` and `messages` columns. You can learn more about formatting the datasets for VLM post training in the [docs](https://huggingface.co/docs/trl/en/sft_trainer#training-vision-language-models)."
      ]
    },
    {
      "cell_type": "code",
      "execution_count": 15,
      "metadata": {
        "id": "ex5t63ts5ca8"
      },
      "outputs": [],
      "source": [
        "def format_data(sample):\n",
        "    return {\n",
        "        \"images\": [sample[\"image\"]],\n",
        "        \"messages\": [\n",
        "            {\n",
        "                \"role\": \"system\",\n",
        "                \"content\": [{\"type\": \"text\", \"text\": system_message}],\n",
        "            },\n",
        "            {\n",
        "                \"role\": \"user\",\n",
        "                \"content\": [\n",
        "                    {\n",
        "                        \"type\": \"image\",\n",
        "                        \"image\": sample[\"image\"],\n",
        "                    },\n",
        "                    {\n",
        "                        \"type\": \"text\",\n",
        "                        \"text\": sample[\"query\"],\n",
        "                    },\n",
        "                ],\n",
        "            },\n",
        "            {\n",
        "                \"role\": \"assistant\",\n",
        "                \"content\": [{\"type\": \"text\", \"text\": sample[\"label\"][0]}],\n",
        "            },\n",
        "        ],\n",
        "    }"
      ]
    },
    {
      "cell_type": "markdown",
      "metadata": {
        "id": "DG0Lle9MNvMX"
      },
      "source": [
        "Now, let’s format the data using the chatbot structure. This will set up the interactions for the model."
      ]
    },
    {
      "cell_type": "code",
      "execution_count": 16,
      "metadata": {
        "id": "osT01-sL5fbc"
      },
      "outputs": [],
      "source": [
        "train_dataset = [format_data(sample) for sample in train_dataset]\n",
        "eval_dataset = [format_data(sample) for sample in eval_dataset]"
      ]
    },
    {
      "cell_type": "markdown",
      "metadata": {
        "id": "CoQav_eB5Nxc"
      },
      "source": [
        "\n",
        "### Configure LoRA\n",
        "\n",
        "Here we define a `LoraConfig`:\n",
        "- `r` and `lora_alpha` control the rank and scaling of the adaptation matrices.\n",
        "- `target_modules` specifies which parts of the model to adapt.\n",
        "- `task_type` is set for causal language modeling.\n",
        "\n",
        "We then apply LoRA to the base model using `get_peft_model` and print out the trainable parameters to verify the adaptation."
      ]
    },
    {
      "cell_type": "code",
      "execution_count": null,
      "metadata": {
        "id": "AWX62x3ftCui"
      },
      "outputs": [],
      "source": [
        "from peft import LoraConfig, get_peft_model\n",
        "\n",
        "# Configure LoRA\n",
        "peft_config = LoraConfig(\n",
        "    lora_alpha=16,\n",
        "    lora_dropout=0.05,\n",
        "    r=8,\n",
        "    target_modules=[\"q_proj\", \"v_proj\"],\n",
        "    task_type=\"CAUSAL_LM\",\n",
        ")\n",
        "\n",
        "# Apply PEFT model adaptation\n",
        "peft_model = get_peft_model(model, peft_config)\n",
        "\n",
        "# Print trainable parameters\n",
        "peft_model.print_trainable_parameters()"
      ]
    },
    {
      "cell_type": "markdown",
      "metadata": {
        "id": "MIIuh4Dup8Sv"
      },
      "source": [
        "### Set up the Trainer\n",
        "\n",
        "We configure the **SFTTrainer** from `trl` with `SFTConfig`:\n",
        "- `num_train_epochs`, `batch_size`, and `gradient_accumulation_steps` control the training loop.\n",
        "- `gradient_checkpointing`, and `bf16` optimize memory and speed.\n",
        "- `learning_rate` manages optimization.\n",
        "- `train_dataset` and `eval_dataset` are aligned with your dataset.\n",
        "\n",
        "This prepares the trainer to handle fine-tuning with PEFT/LoRA."
      ]
    },
    {
      "cell_type": "code",
      "execution_count": null,
      "metadata": {
        "id": "_-7v2ESGtLRj"
      },
      "outputs": [],
      "source": [
        "from trl import SFTConfig, SFTTrainer\n",
        "\n",
        "# Configure training arguments using SFTConfig\n",
        "training_args = SFTConfig(\n",
        "    output_dir=\"smol-course-SmolVLM2-2.2B-Instruct-trl-sft-ChartQA\",\n",
        "    num_train_epochs=1,\n",
        "    per_device_train_batch_size=4,\n",
        "    gradient_accumulation_steps=4,\n",
        "    learning_rate=1e-4,\n",
        "    logging_steps=25,\n",
        "    save_strategy=\"steps\",\n",
        "    save_steps=25,\n",
        "    optim=\"adamw_torch_fused\",\n",
        "    bf16=True,\n",
        "    push_to_hub=True,\n",
        "    report_to=\"trackio\",\n",
        "    max_length=None,\n",
        ")\n",
        "\n",
        "# Initialize the Trainer\n",
        "trainer = SFTTrainer(\n",
        "    model=model,\n",
        "    args=training_args,\n",
        "    train_dataset=train_dataset,\n",
        "    eval_dataset=eval_dataset,\n",
        "    peft_config=peft_config,\n",
        ")\n",
        "\n",
        "# Align the SFTTrainer params with your chosen dataset."
      ]
    },
    {
      "cell_type": "markdown",
      "metadata": {
        "id": "w1BfLTXytN1o"
      },
      "source": [
        "### Train and Save the Model\n",
        "\n",
        "Now we run the training loop:\n",
        "1. `trainer.train()` starts fine-tuning with LoRA.\n",
        "2. `trainer.save_model()` stores the locally trained model.\n",
        "\n",
        "This step ensures the model is ready for downstream tasks with minimal additional parameters."
      ]
    },
    {
      "cell_type": "code",
      "execution_count": null,
      "metadata": {
        "id": "a1S6cyUitQFK"
      },
      "outputs": [],
      "source": [
        "# Train the model\n",
        "trainer.train()\n",
        "\n",
        "# Save the model\n",
        "trainer.save_model(training_args.output_dir)"
      ]
    }
  ],
  "metadata": {
    "accelerator": "GPU",
    "colab": {
      "gpuType": "A100",
      "provenance": []
    },
    "kernelspec": {
      "display_name": "Python 3",
      "name": "python3"
    },
    "language_info": {
      "name": "python"
    }
  },
  "nbformat": 4,
  "nbformat_minor": 0
}
